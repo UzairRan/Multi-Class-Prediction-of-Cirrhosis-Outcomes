{
 "cells": [
  {
   "cell_type": "code",
   "execution_count": 1,
   "id": "561bcf0e",
   "metadata": {
    "_cell_guid": "b1076dfc-b9ad-4769-8c92-a6c4dae69d19",
    "_uuid": "8f2839f25d086af736a60e9eeb907d3b93b6e0e5",
    "execution": {
     "iopub.execute_input": "2024-01-01T14:48:40.315326Z",
     "iopub.status.busy": "2024-01-01T14:48:40.314948Z",
     "iopub.status.idle": "2024-01-01T14:48:40.635045Z",
     "shell.execute_reply": "2024-01-01T14:48:40.634026Z"
    },
    "papermill": {
     "duration": 0.328434,
     "end_time": "2024-01-01T14:48:40.637538",
     "exception": false,
     "start_time": "2024-01-01T14:48:40.309104",
     "status": "completed"
    },
    "tags": []
   },
   "outputs": [
    {
     "name": "stdout",
     "output_type": "stream",
     "text": [
      "/kaggle/input/cirrhosis-patient-survival-prediction/cirrhosis.csv\n",
      "/kaggle/input/playground-series-s3e26/sample_submission.csv\n",
      "/kaggle/input/playground-series-s3e26/train.csv\n",
      "/kaggle/input/playground-series-s3e26/test.csv\n"
     ]
    }
   ],
   "source": [
    "# This Python 3 environment comes with many helpful analytics libraries installed\n",
    "# It is defined by the kaggle/python Docker image: https://github.com/kaggle/docker-python\n",
    "# For example, here's several helpful packages to load\n",
    "\n",
    "import numpy as np # linear algebra\n",
    "import pandas as pd # data processing, CSV file I/O (e.g. pd.read_csv)\n",
    "\n",
    "# Input data files are available in the read-only \"../input/\" directory\n",
    "# For example, running this (by clicking run or pressing Shift+Enter) will list all files under the input directory\n",
    "\n",
    "import os\n",
    "for dirname, _, filenames in os.walk('/kaggle/input'):\n",
    "    for filename in filenames:\n",
    "        print(os.path.join(dirname, filename))\n",
    "\n",
    "# You can write up to 20GB to the current directory (/kaggle/working/) that gets preserved as output when you create a version using \"Save & Run All\" \n",
    "# You can also write temporary files to /kaggle/temp/, but they won't be saved outside of the current session"
   ]
  },
  {
   "cell_type": "code",
   "execution_count": 2,
   "id": "b4531fbc",
   "metadata": {
    "execution": {
     "iopub.execute_input": "2024-01-01T14:48:40.647596Z",
     "iopub.status.busy": "2024-01-01T14:48:40.646709Z",
     "iopub.status.idle": "2024-01-01T14:48:43.311527Z",
     "shell.execute_reply": "2024-01-01T14:48:43.310413Z"
    },
    "papermill": {
     "duration": 2.672142,
     "end_time": "2024-01-01T14:48:43.313961",
     "exception": false,
     "start_time": "2024-01-01T14:48:40.641819",
     "status": "completed"
    },
    "tags": []
   },
   "outputs": [],
   "source": [
    "# Import necessary libraries\n",
    "import pandas as pd\n",
    "import numpy as np\n",
    "from sklearn.model_selection import RepeatedKFold\n",
    "from sklearn.compose import ColumnTransformer\n",
    "from sklearn.impute import SimpleImputer\n",
    "from sklearn.pipeline import Pipeline\n",
    "from sklearn.preprocessing import OneHotEncoder, RobustScaler, LabelEncoder\n",
    "from sklearn.decomposition import FastICA  # Import ICA\n",
    "import lightgbm as lgb\n",
    "from sklearn.metrics import log_loss\n",
    "from pathlib import Path"
   ]
  },
  {
   "cell_type": "code",
   "execution_count": 3,
   "id": "c43202e0",
   "metadata": {
    "execution": {
     "iopub.execute_input": "2024-01-01T14:48:43.322613Z",
     "iopub.status.busy": "2024-01-01T14:48:43.322260Z",
     "iopub.status.idle": "2024-01-01T14:48:43.390166Z",
     "shell.execute_reply": "2024-01-01T14:48:43.388961Z"
    },
    "papermill": {
     "duration": 0.074957,
     "end_time": "2024-01-01T14:48:43.392578",
     "exception": false,
     "start_time": "2024-01-01T14:48:43.317621",
     "status": "completed"
    },
    "tags": []
   },
   "outputs": [],
   "source": [
    "# Set path\n",
    "path = Path('/kaggle/input/playground-series-s3e26')\n",
    "original = pd.read_csv('/kaggle/input/cirrhosis-patient-survival-prediction/cirrhosis.csv')\n",
    "data = pd.read_csv(str(path)+'/train.csv')\n",
    "test_df = pd.read_csv(str(path)+'/test.csv')\n"
   ]
  },
  {
   "cell_type": "code",
   "execution_count": 4,
   "id": "106380b1",
   "metadata": {
    "execution": {
     "iopub.execute_input": "2024-01-01T14:48:43.401473Z",
     "iopub.status.busy": "2024-01-01T14:48:43.400667Z",
     "iopub.status.idle": "2024-01-01T14:48:43.423729Z",
     "shell.execute_reply": "2024-01-01T14:48:43.422424Z"
    },
    "papermill": {
     "duration": 0.030311,
     "end_time": "2024-01-01T14:48:43.426518",
     "exception": false,
     "start_time": "2024-01-01T14:48:43.396207",
     "status": "completed"
    },
    "tags": []
   },
   "outputs": [],
   "source": [
    "# Concatenate data\n",
    "data = pd.concat([original.drop('ID', axis=1), data.drop('id', axis=1)])\n",
    "\n"
   ]
  },
  {
   "cell_type": "code",
   "execution_count": 5,
   "id": "ed832239",
   "metadata": {
    "execution": {
     "iopub.execute_input": "2024-01-01T14:48:43.435196Z",
     "iopub.status.busy": "2024-01-01T14:48:43.434832Z",
     "iopub.status.idle": "2024-01-01T14:48:43.443377Z",
     "shell.execute_reply": "2024-01-01T14:48:43.441629Z"
    },
    "papermill": {
     "duration": 0.01591,
     "end_time": "2024-01-01T14:48:43.446045",
     "exception": false,
     "start_time": "2024-01-01T14:48:43.430135",
     "status": "completed"
    },
    "tags": []
   },
   "outputs": [],
   "source": [
    "# Engineer Numerical Features\n",
    "def engineer_numerical_features(df):\n",
    "    # Calculate the age at the time of outcome event\n",
    "    df['Age_at_Outcome'] = df['Age'] + df['N_Days'] / 365.25\n",
    "    \n",
    "    # Feature engineering for other numerical columns if needed\n",
    "    \n",
    "    return df\n",
    "\n",
    "data = engineer_numerical_features(data)\n",
    "test_df = engineer_numerical_features(test_df)\n",
    "\n"
   ]
  },
  {
   "cell_type": "code",
   "execution_count": 6,
   "id": "081e1e49",
   "metadata": {
    "execution": {
     "iopub.execute_input": "2024-01-01T14:48:43.454748Z",
     "iopub.status.busy": "2024-01-01T14:48:43.454172Z",
     "iopub.status.idle": "2024-01-01T14:48:43.460695Z",
     "shell.execute_reply": "2024-01-01T14:48:43.459336Z"
    },
    "papermill": {
     "duration": 0.012902,
     "end_time": "2024-01-01T14:48:43.462571",
     "exception": false,
     "start_time": "2024-01-01T14:48:43.449669",
     "status": "completed"
    },
    "tags": []
   },
   "outputs": [],
   "source": [
    "# ICA Class Features for new numerical features\n",
    "def get_ica_class_features(feat, n):\n",
    "    ica = FastICA(n_components=n, random_state=42)\n",
    "    ica_result = ica.fit_transform(data[feat].fillna(data[feat].median()).values.reshape(-1, 1))\n",
    "    \n",
    "    data[f'{feat}_class'] = np.argmax(ica_result, axis=1)\n",
    "    \n",
    "    ica_result_test = ica.transform(test_df[feat].fillna(test_df[feat].median()).values.reshape(-1, 1))\n",
    "    test_df[f'{feat}_class'] = np.argmax(ica_result_test, axis=1)\n",
    "\n"
   ]
  },
  {
   "cell_type": "code",
   "execution_count": 7,
   "id": "054589e8",
   "metadata": {
    "execution": {
     "iopub.execute_input": "2024-01-01T14:48:43.471181Z",
     "iopub.status.busy": "2024-01-01T14:48:43.470778Z",
     "iopub.status.idle": "2024-01-01T14:48:43.524446Z",
     "shell.execute_reply": "2024-01-01T14:48:43.522969Z"
    },
    "papermill": {
     "duration": 0.060361,
     "end_time": "2024-01-01T14:48:43.526499",
     "exception": false,
     "start_time": "2024-01-01T14:48:43.466138",
     "status": "completed"
    },
    "tags": []
   },
   "outputs": [
    {
     "name": "stderr",
     "output_type": "stream",
     "text": [
      "/opt/conda/lib/python3.10/site-packages/sklearn/decomposition/_fastica.py:542: FutureWarning: Starting in v1.3, whiten='unit-variance' will be used by default.\n",
      "  warnings.warn(\n",
      "/opt/conda/lib/python3.10/site-packages/sklearn/decomposition/_fastica.py:589: UserWarning: n_components is too large: it will be set to 1\n",
      "  warnings.warn(\n",
      "/opt/conda/lib/python3.10/site-packages/sklearn/decomposition/_fastica.py:542: FutureWarning: Starting in v1.3, whiten='unit-variance' will be used by default.\n",
      "  warnings.warn(\n",
      "/opt/conda/lib/python3.10/site-packages/sklearn/decomposition/_fastica.py:589: UserWarning: n_components is too large: it will be set to 1\n",
      "  warnings.warn(\n",
      "/opt/conda/lib/python3.10/site-packages/sklearn/decomposition/_fastica.py:542: FutureWarning: Starting in v1.3, whiten='unit-variance' will be used by default.\n",
      "  warnings.warn(\n",
      "/opt/conda/lib/python3.10/site-packages/sklearn/decomposition/_fastica.py:589: UserWarning: n_components is too large: it will be set to 1\n",
      "  warnings.warn(\n",
      "/opt/conda/lib/python3.10/site-packages/sklearn/decomposition/_fastica.py:542: FutureWarning: Starting in v1.3, whiten='unit-variance' will be used by default.\n",
      "  warnings.warn(\n",
      "/opt/conda/lib/python3.10/site-packages/sklearn/decomposition/_fastica.py:589: UserWarning: n_components is too large: it will be set to 1\n",
      "  warnings.warn(\n",
      "/opt/conda/lib/python3.10/site-packages/sklearn/decomposition/_fastica.py:542: FutureWarning: Starting in v1.3, whiten='unit-variance' will be used by default.\n",
      "  warnings.warn(\n",
      "/opt/conda/lib/python3.10/site-packages/sklearn/decomposition/_fastica.py:589: UserWarning: n_components is too large: it will be set to 1\n",
      "  warnings.warn(\n",
      "/opt/conda/lib/python3.10/site-packages/sklearn/decomposition/_fastica.py:542: FutureWarning: Starting in v1.3, whiten='unit-variance' will be used by default.\n",
      "  warnings.warn(\n",
      "/opt/conda/lib/python3.10/site-packages/sklearn/decomposition/_fastica.py:589: UserWarning: n_components is too large: it will be set to 1\n",
      "  warnings.warn(\n",
      "/opt/conda/lib/python3.10/site-packages/sklearn/decomposition/_fastica.py:542: FutureWarning: Starting in v1.3, whiten='unit-variance' will be used by default.\n",
      "  warnings.warn(\n",
      "/opt/conda/lib/python3.10/site-packages/sklearn/decomposition/_fastica.py:589: UserWarning: n_components is too large: it will be set to 1\n",
      "  warnings.warn(\n",
      "/opt/conda/lib/python3.10/site-packages/sklearn/decomposition/_fastica.py:542: FutureWarning: Starting in v1.3, whiten='unit-variance' will be used by default.\n",
      "  warnings.warn(\n",
      "/opt/conda/lib/python3.10/site-packages/sklearn/decomposition/_fastica.py:589: UserWarning: n_components is too large: it will be set to 1\n",
      "  warnings.warn(\n"
     ]
    }
   ],
   "source": [
    "# Applying ICA with reduced components\n",
    "\n",
    "get_ica_class_features('Bilirubin', 4)\n",
    "get_ica_class_features('Albumin', 4)\n",
    "get_ica_class_features('Platelets', 3)\n",
    "get_ica_class_features('Prothrombin', 3)\n",
    "get_ica_class_features('Stage', 3)\n",
    "get_ica_class_features('Cholesterol', 3)\n",
    "get_ica_class_features('Age', 4)\n",
    "get_ica_class_features('Copper', 3)"
   ]
  },
  {
   "cell_type": "code",
   "execution_count": 8,
   "id": "1e5f34a0",
   "metadata": {
    "execution": {
     "iopub.execute_input": "2024-01-01T14:48:43.535292Z",
     "iopub.status.busy": "2024-01-01T14:48:43.534951Z",
     "iopub.status.idle": "2024-01-01T14:48:43.542176Z",
     "shell.execute_reply": "2024-01-01T14:48:43.540723Z"
    },
    "papermill": {
     "duration": 0.014677,
     "end_time": "2024-01-01T14:48:43.544904",
     "exception": false,
     "start_time": "2024-01-01T14:48:43.530227",
     "status": "completed"
    },
    "tags": []
   },
   "outputs": [],
   "source": [
    "# Define columns\n",
    "numerical_columns = [col for col in data.columns if data[col].dtype in ['int64', 'float64'] and col != 'id']\n",
    "categorical_columns = [col for col in data.columns if data[col].dtype == 'object' and col != 'Status']\n"
   ]
  },
  {
   "cell_type": "code",
   "execution_count": 9,
   "id": "78580568",
   "metadata": {
    "execution": {
     "iopub.execute_input": "2024-01-01T14:48:43.555166Z",
     "iopub.status.busy": "2024-01-01T14:48:43.554780Z",
     "iopub.status.idle": "2024-01-01T14:48:43.655508Z",
     "shell.execute_reply": "2024-01-01T14:48:43.654243Z"
    },
    "papermill": {
     "duration": 0.108334,
     "end_time": "2024-01-01T14:48:43.658043",
     "exception": false,
     "start_time": "2024-01-01T14:48:43.549709",
     "status": "completed"
    },
    "tags": []
   },
   "outputs": [],
   "source": [
    "# Data preprocessing \n",
    "numerical_preprocessor = Pipeline(steps=[\n",
    "    ('imputer', SimpleImputer(strategy='mean')),\n",
    "    ('scaler', RobustScaler())\n",
    "])\n",
    "\n",
    "categorical_preprocessor = Pipeline(steps=[\n",
    "    ('imputer', SimpleImputer(strategy='most_frequent')),\n",
    "    ('onehot', OneHotEncoder(handle_unknown='ignore'))\n",
    "])\n",
    "\n",
    "preprocessor = ColumnTransformer(transformers=[\n",
    "    (\"numerical\", numerical_preprocessor, numerical_columns),\n",
    "    (\"categorical\", categorical_preprocessor, categorical_columns)\n",
    "])\n",
    "\n",
    "le = LabelEncoder()\n",
    "lgb_params = {'max_depth': 15, 'min_child_samples': 13, 'learning_rate': 0.05285597081335651, 'n_estimators': 284,\n",
    "              'min_child_weight': 5, 'colsample_bytree': 0.10012816493265511, 'reg_alpha': 0.8767668608061822,\n",
    "              'reg_lambda': 0.8705834466355764}\n",
    "target_col = ['Status']\n",
    "drop_col = ['id']\n",
    "\n",
    "train_cols = numerical_columns + categorical_columns\n",
    "model_dict = {}\n",
    "log_scores = []\n",
    "\n",
    "test_predict_list = list()"
   ]
  },
  {
   "cell_type": "code",
   "execution_count": 10,
   "id": "c90af7ea",
   "metadata": {
    "execution": {
     "iopub.execute_input": "2024-01-01T14:48:43.667024Z",
     "iopub.status.busy": "2024-01-01T14:48:43.666648Z",
     "iopub.status.idle": "2024-01-01T15:10:22.263885Z",
     "shell.execute_reply": "2024-01-01T15:10:22.262655Z"
    },
    "papermill": {
     "duration": 1298.605055,
     "end_time": "2024-01-01T15:10:22.266913",
     "exception": false,
     "start_time": "2024-01-01T14:48:43.661858",
     "status": "completed"
    },
    "tags": []
   },
   "outputs": [
    {
     "name": "stdout",
     "output_type": "stream",
     "text": [
      "[150]\tvalid_0's multi_logloss: 0.429702\n",
      "[150]\tvalid_0's multi_logloss: 0.431574\n",
      "[150]\tvalid_0's multi_logloss: 0.414229\n",
      "[150]\tvalid_0's multi_logloss: 0.406261\n",
      "[150]\tvalid_0's multi_logloss: 0.436352\n",
      "[150]\tvalid_0's multi_logloss: 0.396809\n",
      "[150]\tvalid_0's multi_logloss: 0.442593\n",
      "[150]\tvalid_0's multi_logloss: 0.437203\n",
      "[150]\tvalid_0's multi_logloss: 0.438524\n",
      "[150]\tvalid_0's multi_logloss: 0.413714\n",
      "[150]\tvalid_0's multi_logloss: 0.408331\n",
      "[150]\tvalid_0's multi_logloss: 0.386799\n",
      "[150]\tvalid_0's multi_logloss: 0.416702\n",
      "[150]\tvalid_0's multi_logloss: 0.437109\n",
      "[150]\tvalid_0's multi_logloss: 0.418752\n",
      "[150]\tvalid_0's multi_logloss: 0.371486\n",
      "[150]\tvalid_0's multi_logloss: 0.438774\n",
      "[150]\tvalid_0's multi_logloss: 0.432256\n",
      "[150]\tvalid_0's multi_logloss: 0.395999\n",
      "[150]\tvalid_0's multi_logloss: 0.402376\n",
      "[150]\tvalid_0's multi_logloss: 0.451433\n",
      "[150]\tvalid_0's multi_logloss: 0.418736\n",
      "[150]\tvalid_0's multi_logloss: 0.455489\n",
      "[150]\tvalid_0's multi_logloss: 0.410922\n",
      "[150]\tvalid_0's multi_logloss: 0.407553\n",
      "[150]\tvalid_0's multi_logloss: 0.471085\n",
      "[150]\tvalid_0's multi_logloss: 0.408952\n",
      "[150]\tvalid_0's multi_logloss: 0.409192\n",
      "[150]\tvalid_0's multi_logloss: 0.440868\n",
      "[150]\tvalid_0's multi_logloss: 0.443507\n",
      "[150]\tvalid_0's multi_logloss: 0.395487\n",
      "[150]\tvalid_0's multi_logloss: 0.369478\n",
      "[150]\tvalid_0's multi_logloss: 0.408997\n",
      "[150]\tvalid_0's multi_logloss: 0.416117\n",
      "[150]\tvalid_0's multi_logloss: 0.439319\n",
      "[150]\tvalid_0's multi_logloss: 0.454138\n",
      "[150]\tvalid_0's multi_logloss: 0.461597\n",
      "[150]\tvalid_0's multi_logloss: 0.449375\n",
      "[150]\tvalid_0's multi_logloss: 0.469432\n",
      "[150]\tvalid_0's multi_logloss: 0.381171\n",
      "[150]\tvalid_0's multi_logloss: 0.370787\n",
      "[150]\tvalid_0's multi_logloss: 0.400509\n",
      "[150]\tvalid_0's multi_logloss: 0.409939\n",
      "[150]\tvalid_0's multi_logloss: 0.446567\n",
      "[150]\tvalid_0's multi_logloss: 0.446786\n",
      "[150]\tvalid_0's multi_logloss: 0.396349\n",
      "[150]\tvalid_0's multi_logloss: 0.411854\n",
      "[150]\tvalid_0's multi_logloss: 0.424157\n",
      "[150]\tvalid_0's multi_logloss: 0.384012\n",
      "[150]\tvalid_0's multi_logloss: 0.377653\n",
      "[150]\tvalid_0's multi_logloss: 0.434581\n",
      "[150]\tvalid_0's multi_logloss: 0.435833\n",
      "[150]\tvalid_0's multi_logloss: 0.432785\n",
      "[150]\tvalid_0's multi_logloss: 0.441434\n",
      "[150]\tvalid_0's multi_logloss: 0.414898\n",
      "[150]\tvalid_0's multi_logloss: 0.393573\n",
      "[150]\tvalid_0's multi_logloss: 0.418785\n",
      "[150]\tvalid_0's multi_logloss: 0.442498\n",
      "[150]\tvalid_0's multi_logloss: 0.470035\n",
      "[150]\tvalid_0's multi_logloss: 0.416254\n",
      "[150]\tvalid_0's multi_logloss: 0.433995\n",
      "[150]\tvalid_0's multi_logloss: 0.420529\n",
      "[150]\tvalid_0's multi_logloss: 0.354632\n",
      "[150]\tvalid_0's multi_logloss: 0.430352\n",
      "[150]\tvalid_0's multi_logloss: 0.450767\n",
      "[150]\tvalid_0's multi_logloss: 0.38173\n",
      "[150]\tvalid_0's multi_logloss: 0.421566\n",
      "[150]\tvalid_0's multi_logloss: 0.391702\n",
      "[150]\tvalid_0's multi_logloss: 0.46542\n",
      "[150]\tvalid_0's multi_logloss: 0.438877\n",
      "[150]\tvalid_0's multi_logloss: 0.45017\n",
      "[150]\tvalid_0's multi_logloss: 0.409292\n",
      "[150]\tvalid_0's multi_logloss: 0.404467\n",
      "[150]\tvalid_0's multi_logloss: 0.461165\n",
      "[150]\tvalid_0's multi_logloss: 0.402634\n",
      "[150]\tvalid_0's multi_logloss: 0.457241\n",
      "[150]\tvalid_0's multi_logloss: 0.397742\n",
      "[150]\tvalid_0's multi_logloss: 0.428757\n",
      "[150]\tvalid_0's multi_logloss: 0.430298\n",
      "[150]\tvalid_0's multi_logloss: 0.430881\n",
      "[150]\tvalid_0's multi_logloss: 0.393689\n",
      "[150]\tvalid_0's multi_logloss: 0.388515\n",
      "[150]\tvalid_0's multi_logloss: 0.429367\n",
      "[150]\tvalid_0's multi_logloss: 0.427752\n",
      "[150]\tvalid_0's multi_logloss: 0.42924\n",
      "[150]\tvalid_0's multi_logloss: 0.402314\n",
      "[150]\tvalid_0's multi_logloss: 0.438815\n",
      "[150]\tvalid_0's multi_logloss: 0.416326\n",
      "[150]\tvalid_0's multi_logloss: 0.40204\n",
      "[150]\tvalid_0's multi_logloss: 0.391098\n",
      "[150]\tvalid_0's multi_logloss: 0.420321\n",
      "[150]\tvalid_0's multi_logloss: 0.441876\n",
      "[150]\tvalid_0's multi_logloss: 0.42832\n",
      "[150]\tvalid_0's multi_logloss: 0.491726\n",
      "[150]\tvalid_0's multi_logloss: 0.373\n",
      "[150]\tvalid_0's multi_logloss: 0.427345\n",
      "[150]\tvalid_0's multi_logloss: 0.421325\n",
      "[150]\tvalid_0's multi_logloss: 0.421397\n",
      "[150]\tvalid_0's multi_logloss: 0.43079\n",
      "[150]\tvalid_0's multi_logloss: 0.397452\n",
      "[150]\tvalid_0's multi_logloss: 0.444068\n",
      "[150]\tvalid_0's multi_logloss: 0.465172\n",
      "[150]\tvalid_0's multi_logloss: 0.402827\n",
      "[150]\tvalid_0's multi_logloss: 0.384857\n",
      "[150]\tvalid_0's multi_logloss: 0.411968\n",
      "[150]\tvalid_0's multi_logloss: 0.431607\n",
      "[150]\tvalid_0's multi_logloss: 0.396635\n",
      "[150]\tvalid_0's multi_logloss: 0.437164\n",
      "[150]\tvalid_0's multi_logloss: 0.404106\n",
      "[150]\tvalid_0's multi_logloss: 0.396057\n",
      "[150]\tvalid_0's multi_logloss: 0.443194\n",
      "[150]\tvalid_0's multi_logloss: 0.427506\n",
      "[150]\tvalid_0's multi_logloss: 0.468456\n",
      "[150]\tvalid_0's multi_logloss: 0.408024\n",
      "[150]\tvalid_0's multi_logloss: 0.448734\n",
      "[150]\tvalid_0's multi_logloss: 0.394064\n",
      "[150]\tvalid_0's multi_logloss: 0.428595\n",
      "[150]\tvalid_0's multi_logloss: 0.38348\n",
      "[150]\tvalid_0's multi_logloss: 0.466915\n",
      "[150]\tvalid_0's multi_logloss: 0.389612\n"
     ]
    }
   ],
   "source": [
    "# Training models\n",
    "for i in range(10):\n",
    "    rkf = RepeatedKFold(n_splits=12, n_repeats=1, random_state=42 + i)\n",
    "    oof_valid_probs = np.zeros((data.shape[0], 3))\n",
    "    \n",
    "    for fold, (train_idx, valid_idx) in enumerate(rkf.split(data)):\n",
    "        X_train, y_train = data.iloc[train_idx][train_cols], data.iloc[train_idx][target_col].values.ravel()\n",
    "        X_valid, y_valid = data.iloc[valid_idx][train_cols], data.iloc[valid_idx][target_col].values.ravel()\n",
    "\n",
    "        X_train = preprocessor.fit_transform(X_train)\n",
    "        X_valid = preprocessor.transform(X_valid)\n",
    "\n",
    "        y_train = le.fit_transform(y_train)\n",
    "        y_valid = le.transform(y_valid)\n",
    "\n",
    "        model = lgb.LGBMClassifier(**lgb_params)\n",
    "        early_stopping_callback = lgb.early_stopping(200, first_metric_only=True, verbose=False)\n",
    "        verbose_callback = lgb.log_evaluation(150)\n",
    "        model.fit(X_train, y_train, eval_set=[(X_valid, y_valid)],\n",
    "                  callbacks=[early_stopping_callback, verbose_callback], eval_metric='multi_logloss')\n",
    "        valid_probs = model.predict_proba(X_valid)\n",
    "        oof_valid_probs[valid_idx] = valid_probs\n",
    "\n",
    "        test = preprocessor.transform(engineer_numerical_features(test_df).drop('id', axis=1))\n",
    "\n",
    "        test_probs = model.predict_proba(test)\n",
    "        test_predict_list.append(test_probs)\n",
    "        score = log_loss(y_valid, valid_probs)\n",
    "        model_dict[f'{fold}_{i}'] = model\n",
    "\n",
    "    oof_log_score = log_loss(data[target_col], oof_valid_probs)\n",
    "    log_scores.append(oof_log_score)"
   ]
  },
  {
   "cell_type": "code",
   "execution_count": 11,
   "id": "9eec38b0",
   "metadata": {
    "execution": {
     "iopub.execute_input": "2024-01-01T15:10:22.290856Z",
     "iopub.status.busy": "2024-01-01T15:10:22.290434Z",
     "iopub.status.idle": "2024-01-01T15:10:22.302332Z",
     "shell.execute_reply": "2024-01-01T15:10:22.300617Z"
    },
    "papermill": {
     "duration": 0.026542,
     "end_time": "2024-01-01T15:10:22.304734",
     "exception": false,
     "start_time": "2024-01-01T15:10:22.278192",
     "status": "completed"
    },
    "tags": []
   },
   "outputs": [],
   "source": [
    "final_probs = np.mean(test_predict_list, axis=0)\n"
   ]
  },
  {
   "cell_type": "code",
   "execution_count": 12,
   "id": "c1a22528",
   "metadata": {
    "execution": {
     "iopub.execute_input": "2024-01-01T15:10:22.328037Z",
     "iopub.status.busy": "2024-01-01T15:10:22.327649Z",
     "iopub.status.idle": "2024-01-01T15:10:22.372900Z",
     "shell.execute_reply": "2024-01-01T15:10:22.371109Z"
    },
    "papermill": {
     "duration": 0.059258,
     "end_time": "2024-01-01T15:10:22.375216",
     "exception": false,
     "start_time": "2024-01-01T15:10:22.315958",
     "status": "completed"
    },
    "tags": []
   },
   "outputs": [
    {
     "data": {
      "text/html": [
       "<div>\n",
       "<style scoped>\n",
       "    .dataframe tbody tr th:only-of-type {\n",
       "        vertical-align: middle;\n",
       "    }\n",
       "\n",
       "    .dataframe tbody tr th {\n",
       "        vertical-align: top;\n",
       "    }\n",
       "\n",
       "    .dataframe thead th {\n",
       "        text-align: right;\n",
       "    }\n",
       "</style>\n",
       "<table border=\"1\" class=\"dataframe\">\n",
       "  <thead>\n",
       "    <tr style=\"text-align: right;\">\n",
       "      <th></th>\n",
       "      <th>id</th>\n",
       "      <th>Status_C</th>\n",
       "      <th>Status_CL</th>\n",
       "      <th>Status_D</th>\n",
       "    </tr>\n",
       "  </thead>\n",
       "  <tbody>\n",
       "    <tr>\n",
       "      <th>0</th>\n",
       "      <td>7905</td>\n",
       "      <td>0.352502</td>\n",
       "      <td>0.021366</td>\n",
       "      <td>0.626132</td>\n",
       "    </tr>\n",
       "    <tr>\n",
       "      <th>1</th>\n",
       "      <td>7906</td>\n",
       "      <td>0.529084</td>\n",
       "      <td>0.188316</td>\n",
       "      <td>0.282600</td>\n",
       "    </tr>\n",
       "    <tr>\n",
       "      <th>2</th>\n",
       "      <td>7907</td>\n",
       "      <td>0.041441</td>\n",
       "      <td>0.015010</td>\n",
       "      <td>0.943549</td>\n",
       "    </tr>\n",
       "    <tr>\n",
       "      <th>3</th>\n",
       "      <td>7908</td>\n",
       "      <td>0.976259</td>\n",
       "      <td>0.003244</td>\n",
       "      <td>0.020497</td>\n",
       "    </tr>\n",
       "    <tr>\n",
       "      <th>4</th>\n",
       "      <td>7909</td>\n",
       "      <td>0.852901</td>\n",
       "      <td>0.053024</td>\n",
       "      <td>0.094075</td>\n",
       "    </tr>\n",
       "    <tr>\n",
       "      <th>...</th>\n",
       "      <td>...</td>\n",
       "      <td>...</td>\n",
       "      <td>...</td>\n",
       "      <td>...</td>\n",
       "    </tr>\n",
       "    <tr>\n",
       "      <th>5266</th>\n",
       "      <td>13171</td>\n",
       "      <td>0.885462</td>\n",
       "      <td>0.057327</td>\n",
       "      <td>0.057212</td>\n",
       "    </tr>\n",
       "    <tr>\n",
       "      <th>5267</th>\n",
       "      <td>13172</td>\n",
       "      <td>0.957784</td>\n",
       "      <td>0.008039</td>\n",
       "      <td>0.034177</td>\n",
       "    </tr>\n",
       "    <tr>\n",
       "      <th>5268</th>\n",
       "      <td>13173</td>\n",
       "      <td>0.918988</td>\n",
       "      <td>0.021093</td>\n",
       "      <td>0.059919</td>\n",
       "    </tr>\n",
       "    <tr>\n",
       "      <th>5269</th>\n",
       "      <td>13174</td>\n",
       "      <td>0.978573</td>\n",
       "      <td>0.004613</td>\n",
       "      <td>0.016813</td>\n",
       "    </tr>\n",
       "    <tr>\n",
       "      <th>5270</th>\n",
       "      <td>13175</td>\n",
       "      <td>0.410024</td>\n",
       "      <td>0.020311</td>\n",
       "      <td>0.569665</td>\n",
       "    </tr>\n",
       "  </tbody>\n",
       "</table>\n",
       "<p>5271 rows × 4 columns</p>\n",
       "</div>"
      ],
      "text/plain": [
       "         id  Status_C  Status_CL  Status_D\n",
       "0      7905  0.352502   0.021366  0.626132\n",
       "1      7906  0.529084   0.188316  0.282600\n",
       "2      7907  0.041441   0.015010  0.943549\n",
       "3      7908  0.976259   0.003244  0.020497\n",
       "4      7909  0.852901   0.053024  0.094075\n",
       "...     ...       ...        ...       ...\n",
       "5266  13171  0.885462   0.057327  0.057212\n",
       "5267  13172  0.957784   0.008039  0.034177\n",
       "5268  13173  0.918988   0.021093  0.059919\n",
       "5269  13174  0.978573   0.004613  0.016813\n",
       "5270  13175  0.410024   0.020311  0.569665\n",
       "\n",
       "[5271 rows x 4 columns]"
      ]
     },
     "execution_count": 12,
     "metadata": {},
     "output_type": "execute_result"
    }
   ],
   "source": [
    "submit = pd.DataFrame({'id': test_df['id'],\n",
    "                       'Status_C': final_probs[:, 0],\n",
    "                       'Status_CL': final_probs[:, 1],\n",
    "                       'Status_D': final_probs[:, 2]})\n",
    "submit.to_csv('submission.csv', index=False)\n",
    "submit"
   ]
  },
  {
   "cell_type": "code",
   "execution_count": null,
   "id": "230bf90d",
   "metadata": {
    "papermill": {
     "duration": 0.010957,
     "end_time": "2024-01-01T15:10:22.397214",
     "exception": false,
     "start_time": "2024-01-01T15:10:22.386257",
     "status": "completed"
    },
    "tags": []
   },
   "outputs": [],
   "source": []
  }
 ],
 "metadata": {
  "kaggle": {
   "accelerator": "none",
   "dataSources": [
    {
     "databundleVersionId": 7000181,
     "sourceId": 60893,
     "sourceType": "competition"
    },
    {
     "datasetId": 3873965,
     "sourceId": 6724823,
     "sourceType": "datasetVersion"
    }
   ],
   "dockerImageVersionId": 30626,
   "isGpuEnabled": false,
   "isInternetEnabled": true,
   "language": "python",
   "sourceType": "notebook"
  },
  "kernelspec": {
   "display_name": "Python 3",
   "language": "python",
   "name": "python3"
  },
  "language_info": {
   "codemirror_mode": {
    "name": "ipython",
    "version": 3
   },
   "file_extension": ".py",
   "mimetype": "text/x-python",
   "name": "python",
   "nbconvert_exporter": "python",
   "pygments_lexer": "ipython3",
   "version": "3.10.12"
  },
  "papermill": {
   "default_parameters": {},
   "duration": 1305.695083,
   "end_time": "2024-01-01T15:10:23.335068",
   "environment_variables": {},
   "exception": null,
   "input_path": "__notebook__.ipynb",
   "output_path": "__notebook__.ipynb",
   "parameters": {},
   "start_time": "2024-01-01T14:48:37.639985",
   "version": "2.4.0"
  }
 },
 "nbformat": 4,
 "nbformat_minor": 5
}
