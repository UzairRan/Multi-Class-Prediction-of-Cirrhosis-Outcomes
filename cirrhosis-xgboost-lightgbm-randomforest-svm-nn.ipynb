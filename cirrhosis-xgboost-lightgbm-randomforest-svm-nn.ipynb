{
 "cells": [
  {
   "cell_type": "markdown",
   "id": "8c71db01",
   "metadata": {
    "papermill": {
     "duration": 0.010128,
     "end_time": "2023-12-06T18:26:39.938870",
     "exception": false,
     "start_time": "2023-12-06T18:26:39.928742",
     "status": "completed"
    },
    "tags": []
   },
   "source": [
    "# 1- Imports"
   ]
  },
  {
   "cell_type": "code",
   "execution_count": 1,
   "id": "2a5b2dd7",
   "metadata": {
    "execution": {
     "iopub.execute_input": "2023-12-06T18:26:39.961174Z",
     "iopub.status.busy": "2023-12-06T18:26:39.960291Z",
     "iopub.status.idle": "2023-12-06T18:26:44.028489Z",
     "shell.execute_reply": "2023-12-06T18:26:44.027321Z"
    },
    "papermill": {
     "duration": 4.08248,
     "end_time": "2023-12-06T18:26:44.031266",
     "exception": false,
     "start_time": "2023-12-06T18:26:39.948786",
     "status": "completed"
    },
    "tags": []
   },
   "outputs": [],
   "source": [
    "import numpy as np\n",
    "import pandas as pd\n",
    "from sklearn.model_selection import train_test_split, cross_val_score\n",
    "from sklearn.ensemble import RandomForestClassifier, GradientBoostingClassifier, StackingClassifier, VotingClassifier\n",
    "from sklearn.svm import SVC\n",
    "from sklearn.neural_network import MLPClassifier\n",
    "from sklearn.preprocessing import LabelEncoder, StandardScaler\n",
    "from xgboost import XGBClassifier\n",
    "from lightgbm import LGBMClassifier\n",
    "from catboost import CatBoostClassifier\n",
    "from sklearn.metrics import log_loss\n",
    "\n"
   ]
  },
  {
   "cell_type": "code",
   "execution_count": 2,
   "id": "239d19a8",
   "metadata": {
    "execution": {
     "iopub.execute_input": "2023-12-06T18:26:44.053699Z",
     "iopub.status.busy": "2023-12-06T18:26:44.053247Z",
     "iopub.status.idle": "2023-12-06T18:26:44.058330Z",
     "shell.execute_reply": "2023-12-06T18:26:44.057135Z"
    },
    "papermill": {
     "duration": 0.019666,
     "end_time": "2023-12-06T18:26:44.060974",
     "exception": false,
     "start_time": "2023-12-06T18:26:44.041308",
     "status": "completed"
    },
    "tags": []
   },
   "outputs": [],
   "source": [
    "# Set SEED\n",
    "SEED = 42\n"
   ]
  },
  {
   "cell_type": "markdown",
   "id": "b585dc54",
   "metadata": {
    "papermill": {
     "duration": 0.010395,
     "end_time": "2023-12-06T18:26:44.081665",
     "exception": false,
     "start_time": "2023-12-06T18:26:44.071270",
     "status": "completed"
    },
    "tags": []
   },
   "source": [
    "# 2- Load data"
   ]
  },
  {
   "cell_type": "code",
   "execution_count": 3,
   "id": "0e1c0b26",
   "metadata": {
    "execution": {
     "iopub.execute_input": "2023-12-06T18:26:44.105142Z",
     "iopub.status.busy": "2023-12-06T18:26:44.104412Z",
     "iopub.status.idle": "2023-12-06T18:26:44.197992Z",
     "shell.execute_reply": "2023-12-06T18:26:44.196869Z"
    },
    "papermill": {
     "duration": 0.108757,
     "end_time": "2023-12-06T18:26:44.200889",
     "exception": false,
     "start_time": "2023-12-06T18:26:44.092132",
     "status": "completed"
    },
    "tags": []
   },
   "outputs": [],
   "source": [
    "train_data = pd.read_csv(\"/kaggle/input/playground-series-s3e26/train.csv\", index_col=\"id\")\n",
    "test_data = pd.read_csv(\"/kaggle/input/playground-series-s3e26/test.csv\", index_col=\"id\")\n"
   ]
  },
  {
   "cell_type": "markdown",
   "id": "0c56ce4c",
   "metadata": {
    "papermill": {
     "duration": 0.009606,
     "end_time": "2023-12-06T18:26:44.220379",
     "exception": false,
     "start_time": "2023-12-06T18:26:44.210773",
     "status": "completed"
    },
    "tags": []
   },
   "source": [
    "# 3- Feature Engineering"
   ]
  },
  {
   "cell_type": "markdown",
   "id": "abe4421d",
   "metadata": {
    "papermill": {
     "duration": 0.009562,
     "end_time": "2023-12-06T18:26:44.239966",
     "exception": false,
     "start_time": "2023-12-06T18:26:44.230404",
     "status": "completed"
    },
    "tags": []
   },
   "source": [
    "# Define target"
   ]
  },
  {
   "cell_type": "code",
   "execution_count": 4,
   "id": "6e561f5a",
   "metadata": {
    "execution": {
     "iopub.execute_input": "2023-12-06T18:26:44.261816Z",
     "iopub.status.busy": "2023-12-06T18:26:44.260720Z",
     "iopub.status.idle": "2023-12-06T18:26:44.266211Z",
     "shell.execute_reply": "2023-12-06T18:26:44.265077Z"
    },
    "papermill": {
     "duration": 0.01901,
     "end_time": "2023-12-06T18:26:44.268707",
     "exception": false,
     "start_time": "2023-12-06T18:26:44.249697",
     "status": "completed"
    },
    "tags": []
   },
   "outputs": [],
   "source": [
    "target = \"Status\"\n"
   ]
  },
  {
   "cell_type": "markdown",
   "id": "2523d130",
   "metadata": {
    "papermill": {
     "duration": 0.009901,
     "end_time": "2023-12-06T18:26:44.288503",
     "exception": false,
     "start_time": "2023-12-06T18:26:44.278602",
     "status": "completed"
    },
    "tags": []
   },
   "source": [
    "# Separate features and target"
   ]
  },
  {
   "cell_type": "code",
   "execution_count": 5,
   "id": "c37f88d5",
   "metadata": {
    "execution": {
     "iopub.execute_input": "2023-12-06T18:26:44.310732Z",
     "iopub.status.busy": "2023-12-06T18:26:44.309939Z",
     "iopub.status.idle": "2023-12-06T18:26:44.320824Z",
     "shell.execute_reply": "2023-12-06T18:26:44.319534Z"
    },
    "papermill": {
     "duration": 0.025188,
     "end_time": "2023-12-06T18:26:44.323678",
     "exception": false,
     "start_time": "2023-12-06T18:26:44.298490",
     "status": "completed"
    },
    "tags": []
   },
   "outputs": [],
   "source": [
    "X = train_data.drop(columns=[target])\n",
    "y = train_data[target]"
   ]
  },
  {
   "cell_type": "markdown",
   "id": "0e7f9f67",
   "metadata": {
    "papermill": {
     "duration": 0.009742,
     "end_time": "2023-12-06T18:26:44.343240",
     "exception": false,
     "start_time": "2023-12-06T18:26:44.333498",
     "status": "completed"
    },
    "tags": []
   },
   "source": [
    "# Encode target variable"
   ]
  },
  {
   "cell_type": "code",
   "execution_count": 6,
   "id": "1d36a663",
   "metadata": {
    "execution": {
     "iopub.execute_input": "2023-12-06T18:26:44.364445Z",
     "iopub.status.busy": "2023-12-06T18:26:44.364020Z",
     "iopub.status.idle": "2023-12-06T18:26:44.372227Z",
     "shell.execute_reply": "2023-12-06T18:26:44.370973Z"
    },
    "papermill": {
     "duration": 0.021472,
     "end_time": "2023-12-06T18:26:44.374453",
     "exception": false,
     "start_time": "2023-12-06T18:26:44.352981",
     "status": "completed"
    },
    "tags": []
   },
   "outputs": [],
   "source": [
    "le = LabelEncoder().fit(y)\n",
    "y_encoded = le.transform(y)"
   ]
  },
  {
   "cell_type": "markdown",
   "id": "04e8ec26",
   "metadata": {
    "papermill": {
     "duration": 0.011011,
     "end_time": "2023-12-06T18:26:44.395592",
     "exception": false,
     "start_time": "2023-12-06T18:26:44.384581",
     "status": "completed"
    },
    "tags": []
   },
   "source": [
    "# One-hot encode categorical features"
   ]
  },
  {
   "cell_type": "code",
   "execution_count": 7,
   "id": "b661a68c",
   "metadata": {
    "execution": {
     "iopub.execute_input": "2023-12-06T18:26:44.417865Z",
     "iopub.status.busy": "2023-12-06T18:26:44.417090Z",
     "iopub.status.idle": "2023-12-06T18:26:44.436388Z",
     "shell.execute_reply": "2023-12-06T18:26:44.435078Z"
    },
    "papermill": {
     "duration": 0.033833,
     "end_time": "2023-12-06T18:26:44.439437",
     "exception": false,
     "start_time": "2023-12-06T18:26:44.405604",
     "status": "completed"
    },
    "tags": []
   },
   "outputs": [],
   "source": [
    "X = pd.get_dummies(X)"
   ]
  },
  {
   "cell_type": "markdown",
   "id": "c6d9ea7a",
   "metadata": {
    "papermill": {
     "duration": 0.009417,
     "end_time": "2023-12-06T18:26:44.458684",
     "exception": false,
     "start_time": "2023-12-06T18:26:44.449267",
     "status": "completed"
    },
    "tags": []
   },
   "source": [
    "# 4- Model Building"
   ]
  },
  {
   "cell_type": "markdown",
   "id": "f2ed2f81",
   "metadata": {
    "papermill": {
     "duration": 0.009635,
     "end_time": "2023-12-06T18:26:44.478097",
     "exception": false,
     "start_time": "2023-12-06T18:26:44.468462",
     "status": "completed"
    },
    "tags": []
   },
   "source": [
    "# Initialize models"
   ]
  },
  {
   "cell_type": "code",
   "execution_count": 8,
   "id": "84fe29fa",
   "metadata": {
    "execution": {
     "iopub.execute_input": "2023-12-06T18:26:44.499378Z",
     "iopub.status.busy": "2023-12-06T18:26:44.498949Z",
     "iopub.status.idle": "2023-12-06T18:26:44.504570Z",
     "shell.execute_reply": "2023-12-06T18:26:44.503129Z"
    },
    "papermill": {
     "duration": 0.019246,
     "end_time": "2023-12-06T18:26:44.507159",
     "exception": false,
     "start_time": "2023-12-06T18:26:44.487913",
     "status": "completed"
    },
    "tags": []
   },
   "outputs": [],
   "source": [
    "xgb_clf = XGBClassifier(random_state=SEED, n_jobs=-1)\n",
    "lgb_clf = LGBMClassifier(random_state=SEED, n_jobs=-1)\n"
   ]
  },
  {
   "cell_type": "code",
   "execution_count": 9,
   "id": "7ffcb3a6",
   "metadata": {
    "execution": {
     "iopub.execute_input": "2023-12-06T18:26:44.528846Z",
     "iopub.status.busy": "2023-12-06T18:26:44.528106Z",
     "iopub.status.idle": "2023-12-06T18:26:44.533933Z",
     "shell.execute_reply": "2023-12-06T18:26:44.532888Z"
    },
    "papermill": {
     "duration": 0.019317,
     "end_time": "2023-12-06T18:26:44.536231",
     "exception": false,
     "start_time": "2023-12-06T18:26:44.516914",
     "status": "completed"
    },
    "tags": []
   },
   "outputs": [],
   "source": [
    "rf_clf = RandomForestClassifier(random_state=SEED, n_jobs=-1)\n",
    "svm_clf = SVC(probability=True, random_state=SEED)\n",
    "nn_clf = MLPClassifier(random_state=SEED)"
   ]
  },
  {
   "cell_type": "markdown",
   "id": "6fbc7c54",
   "metadata": {
    "papermill": {
     "duration": 0.00973,
     "end_time": "2023-12-06T18:26:44.555920",
     "exception": false,
     "start_time": "2023-12-06T18:26:44.546190",
     "status": "completed"
    },
    "tags": []
   },
   "source": [
    "# Advanced ensemble techniques"
   ]
  },
  {
   "cell_type": "code",
   "execution_count": 10,
   "id": "9117b3c4",
   "metadata": {
    "execution": {
     "iopub.execute_input": "2023-12-06T18:26:44.577902Z",
     "iopub.status.busy": "2023-12-06T18:26:44.577116Z",
     "iopub.status.idle": "2023-12-06T18:26:44.583245Z",
     "shell.execute_reply": "2023-12-06T18:26:44.581956Z"
    },
    "papermill": {
     "duration": 0.020251,
     "end_time": "2023-12-06T18:26:44.586098",
     "exception": false,
     "start_time": "2023-12-06T18:26:44.565847",
     "status": "completed"
    },
    "tags": []
   },
   "outputs": [],
   "source": [
    "stacking_clf = StackingClassifier(\n",
    "    estimators=[('xgb', xgb_clf), ('lgb', lgb_clf)],\n",
    "    final_estimator=GradientBoostingClassifier(random_state=SEED)\n",
    ")\n"
   ]
  },
  {
   "cell_type": "markdown",
   "id": "4e4b91d2",
   "metadata": {
    "papermill": {
     "duration": 0.010025,
     "end_time": "2023-12-06T18:26:44.606179",
     "exception": false,
     "start_time": "2023-12-06T18:26:44.596154",
     "status": "completed"
    },
    "tags": []
   },
   "source": [
    "# Ensemble with voting"
   ]
  },
  {
   "cell_type": "code",
   "execution_count": 11,
   "id": "0cce4eda",
   "metadata": {
    "execution": {
     "iopub.execute_input": "2023-12-06T18:26:44.629120Z",
     "iopub.status.busy": "2023-12-06T18:26:44.628460Z",
     "iopub.status.idle": "2023-12-06T18:26:44.633537Z",
     "shell.execute_reply": "2023-12-06T18:26:44.632693Z"
    },
    "papermill": {
     "duration": 0.019559,
     "end_time": "2023-12-06T18:26:44.635920",
     "exception": false,
     "start_time": "2023-12-06T18:26:44.616361",
     "status": "completed"
    },
    "tags": []
   },
   "outputs": [],
   "source": [
    "voting_clf = VotingClassifier(\n",
    "    estimators=[(\"xgb\", xgb_clf), (\"lgb\", lgb_clf), (\"rf\", rf_clf), (\"svm\", svm_clf), (\"nn\", nn_clf)],\n",
    "    voting=\"soft\"\n",
    ")\n"
   ]
  },
  {
   "cell_type": "markdown",
   "id": "506eba68",
   "metadata": {
    "papermill": {
     "duration": 0.009483,
     "end_time": "2023-12-06T18:26:44.656412",
     "exception": false,
     "start_time": "2023-12-06T18:26:44.646929",
     "status": "completed"
    },
    "tags": []
   },
   "source": [
    "# Standardize data for models that benefit from it"
   ]
  },
  {
   "cell_type": "code",
   "execution_count": 12,
   "id": "cc046557",
   "metadata": {
    "execution": {
     "iopub.execute_input": "2023-12-06T18:26:44.678033Z",
     "iopub.status.busy": "2023-12-06T18:26:44.677389Z",
     "iopub.status.idle": "2023-12-06T18:26:44.681539Z",
     "shell.execute_reply": "2023-12-06T18:26:44.680646Z"
    },
    "papermill": {
     "duration": 0.017669,
     "end_time": "2023-12-06T18:26:44.683775",
     "exception": false,
     "start_time": "2023-12-06T18:26:44.666106",
     "status": "completed"
    },
    "tags": []
   },
   "outputs": [],
   "source": [
    "scaler = StandardScaler()"
   ]
  },
  {
   "cell_type": "markdown",
   "id": "dec462a6",
   "metadata": {
    "papermill": {
     "duration": 0.009391,
     "end_time": "2023-12-06T18:26:44.703279",
     "exception": false,
     "start_time": "2023-12-06T18:26:44.693888",
     "status": "completed"
    },
    "tags": []
   },
   "source": [
    "# Advanced ensemble with stacking, voting, and feature scaling"
   ]
  },
  {
   "cell_type": "code",
   "execution_count": 13,
   "id": "0a328d04",
   "metadata": {
    "execution": {
     "iopub.execute_input": "2023-12-06T18:26:44.726035Z",
     "iopub.status.busy": "2023-12-06T18:26:44.725370Z",
     "iopub.status.idle": "2023-12-06T18:26:44.730613Z",
     "shell.execute_reply": "2023-12-06T18:26:44.729790Z"
    },
    "papermill": {
     "duration": 0.019695,
     "end_time": "2023-12-06T18:26:44.733036",
     "exception": false,
     "start_time": "2023-12-06T18:26:44.713341",
     "status": "completed"
    },
    "tags": []
   },
   "outputs": [],
   "source": [
    "advanced_eclf = StackingClassifier(\n",
    "    estimators=[('xgb', xgb_clf), ('lgb', lgb_clf), ('rf', rf_clf), ('svm', svm_clf), ('nn', nn_clf)],\n",
    "    final_estimator=GradientBoostingClassifier(random_state=SEED)\n",
    ")\n"
   ]
  },
  {
   "cell_type": "markdown",
   "id": "d2974a0e",
   "metadata": {
    "execution": {
     "iopub.execute_input": "2023-12-06T17:49:47.869473Z",
     "iopub.status.busy": "2023-12-06T17:49:47.869038Z",
     "iopub.status.idle": "2023-12-06T17:49:47.874373Z",
     "shell.execute_reply": "2023-12-06T17:49:47.873087Z",
     "shell.execute_reply.started": "2023-12-06T17:49:47.869429Z"
    },
    "papermill": {
     "duration": 0.010024,
     "end_time": "2023-12-06T18:26:44.752964",
     "exception": false,
     "start_time": "2023-12-06T18:26:44.742940",
     "status": "completed"
    },
    "tags": []
   },
   "source": [
    "# 5- Model Evaluation"
   ]
  },
  {
   "cell_type": "code",
   "execution_count": 14,
   "id": "232d9668",
   "metadata": {
    "execution": {
     "iopub.execute_input": "2023-12-06T18:26:44.775170Z",
     "iopub.status.busy": "2023-12-06T18:26:44.774499Z",
     "iopub.status.idle": "2023-12-06T18:38:33.915782Z",
     "shell.execute_reply": "2023-12-06T18:38:33.914050Z"
    },
    "papermill": {
     "duration": 709.178966,
     "end_time": "2023-12-06T18:38:33.942199",
     "exception": false,
     "start_time": "2023-12-06T18:26:44.763233",
     "status": "completed"
    },
    "tags": []
   },
   "outputs": [
    {
     "name": "stdout",
     "output_type": "stream",
     "text": [
      "\n",
      "Model name: XGBClassifier.\n",
      "Mean log_loss: -0.5154 +/- 0.0395\n",
      "\n",
      "Model name: LGBMClassifier.\n",
      "Mean log_loss: -0.4704 +/- 0.0330\n",
      "\n",
      "Model name: StackingClassifier.\n",
      "Mean log_loss: -0.4677 +/- 0.0252\n",
      "\n",
      "Model name: VotingClassifier.\n",
      "Mean log_loss: -0.5023 +/- 0.0255\n",
      "\n",
      "Model name: StackingClassifier.\n",
      "Mean log_loss: -0.4645 +/- 0.0212\n"
     ]
    }
   ],
   "source": [
    "models = [xgb_clf, lgb_clf, stacking_clf, voting_clf, advanced_eclf]\n",
    "for model in models:\n",
    "    print(f\"\\nModel name: {type(model).__name__}.\")\n",
    "    try:\n",
    "        scores = cross_val_score(model, X, y_encoded, cv=5, scoring='neg_log_loss')\n",
    "        mean_score = np.mean(scores)\n",
    "        std_score = np.std(scores)\n",
    "        print(f\"Mean log_loss: {mean_score:.4f} +/- {std_score:.4f}\")\n",
    "    except Exception as e:\n",
    "        print(f\"Error: {e}\")"
   ]
  },
  {
   "cell_type": "markdown",
   "id": "f0fcf6df",
   "metadata": {
    "papermill": {
     "duration": 0.021295,
     "end_time": "2023-12-06T18:38:33.985136",
     "exception": false,
     "start_time": "2023-12-06T18:38:33.963841",
     "status": "completed"
    },
    "tags": []
   },
   "source": [
    "# Fit the final advanced ensemble model"
   ]
  },
  {
   "cell_type": "code",
   "execution_count": 15,
   "id": "3b844238",
   "metadata": {
    "execution": {
     "iopub.execute_input": "2023-12-06T18:38:34.021100Z",
     "iopub.status.busy": "2023-12-06T18:38:34.020693Z",
     "iopub.status.idle": "2023-12-06T18:40:44.558055Z",
     "shell.execute_reply": "2023-12-06T18:40:44.554711Z"
    },
    "papermill": {
     "duration": 130.563591,
     "end_time": "2023-12-06T18:40:44.570549",
     "exception": false,
     "start_time": "2023-12-06T18:38:34.006958",
     "status": "completed"
    },
    "tags": []
   },
   "outputs": [
    {
     "data": {
      "text/html": [
       "<style>#sk-container-id-1 {color: black;background-color: white;}#sk-container-id-1 pre{padding: 0;}#sk-container-id-1 div.sk-toggleable {background-color: white;}#sk-container-id-1 label.sk-toggleable__label {cursor: pointer;display: block;width: 100%;margin-bottom: 0;padding: 0.3em;box-sizing: border-box;text-align: center;}#sk-container-id-1 label.sk-toggleable__label-arrow:before {content: \"▸\";float: left;margin-right: 0.25em;color: #696969;}#sk-container-id-1 label.sk-toggleable__label-arrow:hover:before {color: black;}#sk-container-id-1 div.sk-estimator:hover label.sk-toggleable__label-arrow:before {color: black;}#sk-container-id-1 div.sk-toggleable__content {max-height: 0;max-width: 0;overflow: hidden;text-align: left;background-color: #f0f8ff;}#sk-container-id-1 div.sk-toggleable__content pre {margin: 0.2em;color: black;border-radius: 0.25em;background-color: #f0f8ff;}#sk-container-id-1 input.sk-toggleable__control:checked~div.sk-toggleable__content {max-height: 200px;max-width: 100%;overflow: auto;}#sk-container-id-1 input.sk-toggleable__control:checked~label.sk-toggleable__label-arrow:before {content: \"▾\";}#sk-container-id-1 div.sk-estimator input.sk-toggleable__control:checked~label.sk-toggleable__label {background-color: #d4ebff;}#sk-container-id-1 div.sk-label input.sk-toggleable__control:checked~label.sk-toggleable__label {background-color: #d4ebff;}#sk-container-id-1 input.sk-hidden--visually {border: 0;clip: rect(1px 1px 1px 1px);clip: rect(1px, 1px, 1px, 1px);height: 1px;margin: -1px;overflow: hidden;padding: 0;position: absolute;width: 1px;}#sk-container-id-1 div.sk-estimator {font-family: monospace;background-color: #f0f8ff;border: 1px dotted black;border-radius: 0.25em;box-sizing: border-box;margin-bottom: 0.5em;}#sk-container-id-1 div.sk-estimator:hover {background-color: #d4ebff;}#sk-container-id-1 div.sk-parallel-item::after {content: \"\";width: 100%;border-bottom: 1px solid gray;flex-grow: 1;}#sk-container-id-1 div.sk-label:hover label.sk-toggleable__label {background-color: #d4ebff;}#sk-container-id-1 div.sk-serial::before {content: \"\";position: absolute;border-left: 1px solid gray;box-sizing: border-box;top: 0;bottom: 0;left: 50%;z-index: 0;}#sk-container-id-1 div.sk-serial {display: flex;flex-direction: column;align-items: center;background-color: white;padding-right: 0.2em;padding-left: 0.2em;position: relative;}#sk-container-id-1 div.sk-item {position: relative;z-index: 1;}#sk-container-id-1 div.sk-parallel {display: flex;align-items: stretch;justify-content: center;background-color: white;position: relative;}#sk-container-id-1 div.sk-item::before, #sk-container-id-1 div.sk-parallel-item::before {content: \"\";position: absolute;border-left: 1px solid gray;box-sizing: border-box;top: 0;bottom: 0;left: 50%;z-index: -1;}#sk-container-id-1 div.sk-parallel-item {display: flex;flex-direction: column;z-index: 1;position: relative;background-color: white;}#sk-container-id-1 div.sk-parallel-item:first-child::after {align-self: flex-end;width: 50%;}#sk-container-id-1 div.sk-parallel-item:last-child::after {align-self: flex-start;width: 50%;}#sk-container-id-1 div.sk-parallel-item:only-child::after {width: 0;}#sk-container-id-1 div.sk-dashed-wrapped {border: 1px dashed gray;margin: 0 0.4em 0.5em 0.4em;box-sizing: border-box;padding-bottom: 0.4em;background-color: white;}#sk-container-id-1 div.sk-label label {font-family: monospace;font-weight: bold;display: inline-block;line-height: 1.2em;}#sk-container-id-1 div.sk-label-container {text-align: center;}#sk-container-id-1 div.sk-container {/* jupyter's `normalize.less` sets `[hidden] { display: none; }` but bootstrap.min.css set `[hidden] { display: none !important; }` so we also need the `!important` here to be able to override the default hidden behavior on the sphinx rendered scikit-learn.org. See: https://github.com/scikit-learn/scikit-learn/issues/21755 */display: inline-block !important;position: relative;}#sk-container-id-1 div.sk-text-repr-fallback {display: none;}</style><div id=\"sk-container-id-1\" class=\"sk-top-container\"><div class=\"sk-text-repr-fallback\"><pre>StackingClassifier(estimators=[(&#x27;xgb&#x27;,\n",
       "                                XGBClassifier(base_score=None, booster=None,\n",
       "                                              callbacks=None,\n",
       "                                              colsample_bylevel=None,\n",
       "                                              colsample_bynode=None,\n",
       "                                              colsample_bytree=None,\n",
       "                                              device=None,\n",
       "                                              early_stopping_rounds=None,\n",
       "                                              enable_categorical=False,\n",
       "                                              eval_metric=None,\n",
       "                                              feature_types=None, gamma=None,\n",
       "                                              grow_policy=None,\n",
       "                                              importance_type=None,\n",
       "                                              interaction_constraints=None,\n",
       "                                              learning_...\n",
       "                                              monotone_constraints=None,\n",
       "                                              multi_strategy=None,\n",
       "                                              n_estimators=None, n_jobs=-1,\n",
       "                                              num_parallel_tree=None,\n",
       "                                              random_state=42, ...)),\n",
       "                               (&#x27;lgb&#x27;, LGBMClassifier(random_state=42)),\n",
       "                               (&#x27;rf&#x27;,\n",
       "                                RandomForestClassifier(n_jobs=-1,\n",
       "                                                       random_state=42)),\n",
       "                               (&#x27;svm&#x27;, SVC(probability=True, random_state=42)),\n",
       "                               (&#x27;nn&#x27;, MLPClassifier(random_state=42))],\n",
       "                   final_estimator=GradientBoostingClassifier(random_state=42))</pre><b>In a Jupyter environment, please rerun this cell to show the HTML representation or trust the notebook. <br />On GitHub, the HTML representation is unable to render, please try loading this page with nbviewer.org.</b></div><div class=\"sk-container\" hidden><div class=\"sk-item sk-dashed-wrapped\"><div class=\"sk-label-container\"><div class=\"sk-label sk-toggleable\"><input class=\"sk-toggleable__control sk-hidden--visually\" id=\"sk-estimator-id-1\" type=\"checkbox\" ><label for=\"sk-estimator-id-1\" class=\"sk-toggleable__label sk-toggleable__label-arrow\">StackingClassifier</label><div class=\"sk-toggleable__content\"><pre>StackingClassifier(estimators=[(&#x27;xgb&#x27;,\n",
       "                                XGBClassifier(base_score=None, booster=None,\n",
       "                                              callbacks=None,\n",
       "                                              colsample_bylevel=None,\n",
       "                                              colsample_bynode=None,\n",
       "                                              colsample_bytree=None,\n",
       "                                              device=None,\n",
       "                                              early_stopping_rounds=None,\n",
       "                                              enable_categorical=False,\n",
       "                                              eval_metric=None,\n",
       "                                              feature_types=None, gamma=None,\n",
       "                                              grow_policy=None,\n",
       "                                              importance_type=None,\n",
       "                                              interaction_constraints=None,\n",
       "                                              learning_...\n",
       "                                              monotone_constraints=None,\n",
       "                                              multi_strategy=None,\n",
       "                                              n_estimators=None, n_jobs=-1,\n",
       "                                              num_parallel_tree=None,\n",
       "                                              random_state=42, ...)),\n",
       "                               (&#x27;lgb&#x27;, LGBMClassifier(random_state=42)),\n",
       "                               (&#x27;rf&#x27;,\n",
       "                                RandomForestClassifier(n_jobs=-1,\n",
       "                                                       random_state=42)),\n",
       "                               (&#x27;svm&#x27;, SVC(probability=True, random_state=42)),\n",
       "                               (&#x27;nn&#x27;, MLPClassifier(random_state=42))],\n",
       "                   final_estimator=GradientBoostingClassifier(random_state=42))</pre></div></div></div><div class=\"sk-serial\"><div class=\"sk-item\"><div class=\"sk-parallel\"><div class=\"sk-parallel-item\"><div class=\"sk-item\"><div class=\"sk-label-container\"><div class=\"sk-label sk-toggleable\"><label>xgb</label></div></div><div class=\"sk-serial\"><div class=\"sk-item\"><div class=\"sk-estimator sk-toggleable\"><input class=\"sk-toggleable__control sk-hidden--visually\" id=\"sk-estimator-id-2\" type=\"checkbox\" ><label for=\"sk-estimator-id-2\" class=\"sk-toggleable__label sk-toggleable__label-arrow\">XGBClassifier</label><div class=\"sk-toggleable__content\"><pre>XGBClassifier(base_score=None, booster=None, callbacks=None,\n",
       "              colsample_bylevel=None, colsample_bynode=None,\n",
       "              colsample_bytree=None, device=None, early_stopping_rounds=None,\n",
       "              enable_categorical=False, eval_metric=None, feature_types=None,\n",
       "              gamma=None, grow_policy=None, importance_type=None,\n",
       "              interaction_constraints=None, learning_rate=None, max_bin=None,\n",
       "              max_cat_threshold=None, max_cat_to_onehot=None,\n",
       "              max_delta_step=None, max_depth=None, max_leaves=None,\n",
       "              min_child_weight=None, missing=nan, monotone_constraints=None,\n",
       "              multi_strategy=None, n_estimators=None, n_jobs=-1,\n",
       "              num_parallel_tree=None, random_state=42, ...)</pre></div></div></div></div></div></div><div class=\"sk-parallel-item\"><div class=\"sk-item\"><div class=\"sk-label-container\"><div class=\"sk-label sk-toggleable\"><label>lgb</label></div></div><div class=\"sk-serial\"><div class=\"sk-item\"><div class=\"sk-estimator sk-toggleable\"><input class=\"sk-toggleable__control sk-hidden--visually\" id=\"sk-estimator-id-3\" type=\"checkbox\" ><label for=\"sk-estimator-id-3\" class=\"sk-toggleable__label sk-toggleable__label-arrow\">LGBMClassifier</label><div class=\"sk-toggleable__content\"><pre>LGBMClassifier(random_state=42)</pre></div></div></div></div></div></div><div class=\"sk-parallel-item\"><div class=\"sk-item\"><div class=\"sk-label-container\"><div class=\"sk-label sk-toggleable\"><label>rf</label></div></div><div class=\"sk-serial\"><div class=\"sk-item\"><div class=\"sk-estimator sk-toggleable\"><input class=\"sk-toggleable__control sk-hidden--visually\" id=\"sk-estimator-id-4\" type=\"checkbox\" ><label for=\"sk-estimator-id-4\" class=\"sk-toggleable__label sk-toggleable__label-arrow\">RandomForestClassifier</label><div class=\"sk-toggleable__content\"><pre>RandomForestClassifier(n_jobs=-1, random_state=42)</pre></div></div></div></div></div></div><div class=\"sk-parallel-item\"><div class=\"sk-item\"><div class=\"sk-label-container\"><div class=\"sk-label sk-toggleable\"><label>svm</label></div></div><div class=\"sk-serial\"><div class=\"sk-item\"><div class=\"sk-estimator sk-toggleable\"><input class=\"sk-toggleable__control sk-hidden--visually\" id=\"sk-estimator-id-5\" type=\"checkbox\" ><label for=\"sk-estimator-id-5\" class=\"sk-toggleable__label sk-toggleable__label-arrow\">SVC</label><div class=\"sk-toggleable__content\"><pre>SVC(probability=True, random_state=42)</pre></div></div></div></div></div></div><div class=\"sk-parallel-item\"><div class=\"sk-item\"><div class=\"sk-label-container\"><div class=\"sk-label sk-toggleable\"><label>nn</label></div></div><div class=\"sk-serial\"><div class=\"sk-item\"><div class=\"sk-estimator sk-toggleable\"><input class=\"sk-toggleable__control sk-hidden--visually\" id=\"sk-estimator-id-6\" type=\"checkbox\" ><label for=\"sk-estimator-id-6\" class=\"sk-toggleable__label sk-toggleable__label-arrow\">MLPClassifier</label><div class=\"sk-toggleable__content\"><pre>MLPClassifier(random_state=42)</pre></div></div></div></div></div></div></div></div><div class=\"sk-item\"><div class=\"sk-parallel\"><div class=\"sk-parallel-item\"><div class=\"sk-item\"><div class=\"sk-label-container\"><div class=\"sk-label sk-toggleable\"><label>final_estimator</label></div></div><div class=\"sk-serial\"><div class=\"sk-item\"><div class=\"sk-estimator sk-toggleable\"><input class=\"sk-toggleable__control sk-hidden--visually\" id=\"sk-estimator-id-7\" type=\"checkbox\" ><label for=\"sk-estimator-id-7\" class=\"sk-toggleable__label sk-toggleable__label-arrow\">GradientBoostingClassifier</label><div class=\"sk-toggleable__content\"><pre>GradientBoostingClassifier(random_state=42)</pre></div></div></div></div></div></div></div></div></div></div></div></div>"
      ],
      "text/plain": [
       "StackingClassifier(estimators=[('xgb',\n",
       "                                XGBClassifier(base_score=None, booster=None,\n",
       "                                              callbacks=None,\n",
       "                                              colsample_bylevel=None,\n",
       "                                              colsample_bynode=None,\n",
       "                                              colsample_bytree=None,\n",
       "                                              device=None,\n",
       "                                              early_stopping_rounds=None,\n",
       "                                              enable_categorical=False,\n",
       "                                              eval_metric=None,\n",
       "                                              feature_types=None, gamma=None,\n",
       "                                              grow_policy=None,\n",
       "                                              importance_type=None,\n",
       "                                              interaction_constraints=None,\n",
       "                                              learning_...\n",
       "                                              monotone_constraints=None,\n",
       "                                              multi_strategy=None,\n",
       "                                              n_estimators=None, n_jobs=-1,\n",
       "                                              num_parallel_tree=None,\n",
       "                                              random_state=42, ...)),\n",
       "                               ('lgb', LGBMClassifier(random_state=42)),\n",
       "                               ('rf',\n",
       "                                RandomForestClassifier(n_jobs=-1,\n",
       "                                                       random_state=42)),\n",
       "                               ('svm', SVC(probability=True, random_state=42)),\n",
       "                               ('nn', MLPClassifier(random_state=42))],\n",
       "                   final_estimator=GradientBoostingClassifier(random_state=42))"
      ]
     },
     "execution_count": 15,
     "metadata": {},
     "output_type": "execute_result"
    }
   ],
   "source": [
    "advanced_eclf.fit(X, y_encoded)\n"
   ]
  },
  {
   "cell_type": "markdown",
   "id": "9cb7684d",
   "metadata": {
    "papermill": {
     "duration": 0.010735,
     "end_time": "2023-12-06T18:40:44.592379",
     "exception": false,
     "start_time": "2023-12-06T18:40:44.581644",
     "status": "completed"
    },
    "tags": []
   },
   "source": [
    "# Make predictions on the test set"
   ]
  },
  {
   "cell_type": "code",
   "execution_count": 16,
   "id": "88aca191",
   "metadata": {
    "execution": {
     "iopub.execute_input": "2023-12-06T18:40:44.616265Z",
     "iopub.status.busy": "2023-12-06T18:40:44.615863Z",
     "iopub.status.idle": "2023-12-06T18:40:46.909951Z",
     "shell.execute_reply": "2023-12-06T18:40:46.908295Z"
    },
    "papermill": {
     "duration": 2.311027,
     "end_time": "2023-12-06T18:40:46.914535",
     "exception": false,
     "start_time": "2023-12-06T18:40:44.603508",
     "status": "completed"
    },
    "tags": []
   },
   "outputs": [],
   "source": [
    "\n",
    "X_test = pd.get_dummies(test_data)\n",
    "test_predictions = advanced_eclf.predict_proba(X_test)\n"
   ]
  },
  {
   "cell_type": "markdown",
   "id": "9efcf8cf",
   "metadata": {
    "papermill": {
     "duration": 0.02263,
     "end_time": "2023-12-06T18:40:46.961000",
     "exception": false,
     "start_time": "2023-12-06T18:40:46.938370",
     "status": "completed"
    },
    "tags": []
   },
   "source": [
    "# 6- Submission File"
   ]
  },
  {
   "cell_type": "code",
   "execution_count": 17,
   "id": "cadd2231",
   "metadata": {
    "execution": {
     "iopub.execute_input": "2023-12-06T18:40:46.996130Z",
     "iopub.status.busy": "2023-12-06T18:40:46.995723Z",
     "iopub.status.idle": "2023-12-06T18:40:47.053556Z",
     "shell.execute_reply": "2023-12-06T18:40:47.051369Z"
    },
    "papermill": {
     "duration": 0.073481,
     "end_time": "2023-12-06T18:40:47.056546",
     "exception": false,
     "start_time": "2023-12-06T18:40:46.983065",
     "status": "completed"
    },
    "tags": []
   },
   "outputs": [
    {
     "name": "stdout",
     "output_type": "stream",
     "text": [
      "Your advanced submission was successfully saved!\n"
     ]
    }
   ],
   "source": [
    "# Prepare submission\n",
    "submission_df = pd.DataFrame({\n",
    "    'id': test_data.index,\n",
    "    'Status_C': test_predictions[:, 0],\n",
    "    'Status_CL': test_predictions[:, 1],\n",
    "    'Status_D': test_predictions[:, 2]\n",
    "})\n",
    "\n",
    "# Save submission file\n",
    "submission_df.to_csv('advanced_submission.csv', index=False)\n",
    "print(\"Your advanced submission was successfully saved!\")"
   ]
  },
  {
   "cell_type": "code",
   "execution_count": null,
   "id": "a4939e23",
   "metadata": {
    "papermill": {
     "duration": 0.011069,
     "end_time": "2023-12-06T18:40:47.080473",
     "exception": false,
     "start_time": "2023-12-06T18:40:47.069404",
     "status": "completed"
    },
    "tags": []
   },
   "outputs": [],
   "source": []
  }
 ],
 "metadata": {
  "kaggle": {
   "accelerator": "none",
   "dataSources": [
    {
     "databundleVersionId": 7000181,
     "sourceId": 60893,
     "sourceType": "competition"
    }
   ],
   "dockerImageVersionId": 30587,
   "isGpuEnabled": false,
   "isInternetEnabled": true,
   "language": "python",
   "sourceType": "notebook"
  },
  "kernelspec": {
   "display_name": "Python 3",
   "language": "python",
   "name": "python3"
  },
  "language_info": {
   "codemirror_mode": {
    "name": "ipython",
    "version": 3
   },
   "file_extension": ".py",
   "mimetype": "text/x-python",
   "name": "python",
   "nbconvert_exporter": "python",
   "pygments_lexer": "ipython3",
   "version": "3.10.12"
  },
  "papermill": {
   "default_parameters": {},
   "duration": 851.511106,
   "end_time": "2023-12-06T18:40:47.919218",
   "environment_variables": {},
   "exception": null,
   "input_path": "__notebook__.ipynb",
   "output_path": "__notebook__.ipynb",
   "parameters": {},
   "start_time": "2023-12-06T18:26:36.408112",
   "version": "2.4.0"
  }
 },
 "nbformat": 4,
 "nbformat_minor": 5
}
